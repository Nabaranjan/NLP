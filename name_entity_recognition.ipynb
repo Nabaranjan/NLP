{
  "nbformat": 4,
  "nbformat_minor": 0,
  "metadata": {
    "colab": {
      "provenance": [],
      "authorship_tag": "ABX9TyNdIQSWzbene5ukBtimwVUv",
      "include_colab_link": true
    },
    "kernelspec": {
      "name": "python3",
      "display_name": "Python 3"
    },
    "language_info": {
      "name": "python"
    }
  },
  "cells": [
    {
      "cell_type": "markdown",
      "metadata": {
        "id": "view-in-github",
        "colab_type": "text"
      },
      "source": [
        "<a href=\"https://colab.research.google.com/github/Nabaranjan/NLP/blob/main/name_entity_recognition.ipynb\" target=\"_parent\"><img src=\"https://colab.research.google.com/assets/colab-badge.svg\" alt=\"Open In Colab\"/></a>"
      ]
    },
    {
      "cell_type": "code",
      "execution_count": 1,
      "metadata": {
        "colab": {
          "base_uri": "https://localhost:8080/",
          "height": 35
        },
        "id": "DaYH-pInZyWB",
        "outputId": "6b0c733a-c511-433e-fccd-e647fbec53a8"
      },
      "outputs": [
        {
          "output_type": "execute_result",
          "data": {
            "text/plain": [
              "'\\nPerson Eg: Nabaranjan\\nPlace or Location Eg: India\\nDate Eg: September,09-09-1996\\nTime Eg: 5:30pm\\n'"
            ],
            "application/vnd.google.colaboratory.intrinsic+json": {
              "type": "string"
            }
          },
          "metadata": {},
          "execution_count": 1
        }
      ],
      "source": [
        "sentence = \"The Eiffel Tower was built from 1887 to 1889 by french engineer Gustave Eiffel, whose company specialized in building metal frameworks and structures.\"\n",
        "\n",
        "\"\"\"\n",
        "Person Eg: Nabaranjan\n",
        "Place or Location Eg: India\n",
        "Date Eg: September,09-09-1996\n",
        "Time Eg: 5:30pm\n",
        "\"\"\""
      ]
    },
    {
      "cell_type": "code",
      "source": [
        "sentence = \"The Eiffel Tower was built from 1887 to 1889 by french engineer Gustave Eiffel, whose company specialized in building metal frameworks and structures.\"\n"
      ],
      "metadata": {
        "id": "BwL_HdQPjmtt"
      },
      "execution_count": 2,
      "outputs": []
    },
    {
      "cell_type": "code",
      "source": [
        "import nltk\n",
        "nltk.download('punkt_tab')\n"
      ],
      "metadata": {
        "colab": {
          "base_uri": "https://localhost:8080/"
        },
        "id": "qeUXWfrFjrK7",
        "outputId": "b1454b80-1c9c-4efc-a2a3-1f311871dd9a"
      },
      "execution_count": 4,
      "outputs": [
        {
          "output_type": "stream",
          "name": "stderr",
          "text": [
            "[nltk_data] Downloading package punkt_tab to /root/nltk_data...\n",
            "[nltk_data]   Unzipping tokenizers/punkt_tab.zip.\n"
          ]
        }
      ]
    },
    {
      "cell_type": "code",
      "source": [
        "words = nltk.word_tokenize(sentence)"
      ],
      "metadata": {
        "id": "buA5luaNj-9q"
      },
      "execution_count": 5,
      "outputs": []
    },
    {
      "cell_type": "code",
      "source": [
        "import nltk\n",
        "nltk.download('averaged_perceptron_tagger_eng')"
      ],
      "metadata": {
        "colab": {
          "base_uri": "https://localhost:8080/"
        },
        "id": "EpKTCmhQkO0r",
        "outputId": "15391f5d-56f3-4091-bb71-1e001c850a4a"
      },
      "execution_count": 7,
      "outputs": [
        {
          "output_type": "stream",
          "name": "stderr",
          "text": [
            "[nltk_data] Downloading package averaged_perceptron_tagger_eng to\n",
            "[nltk_data]     /root/nltk_data...\n",
            "[nltk_data]   Unzipping taggers/averaged_perceptron_tagger_eng.zip.\n"
          ]
        },
        {
          "output_type": "execute_result",
          "data": {
            "text/plain": [
              "True"
            ]
          },
          "metadata": {},
          "execution_count": 7
        }
      ]
    },
    {
      "cell_type": "code",
      "source": [
        "tag_elements = nltk.pos_tag(words)"
      ],
      "metadata": {
        "id": "39YoFJiskBMC"
      },
      "execution_count": 9,
      "outputs": []
    },
    {
      "cell_type": "code",
      "source": [
        "import nltk\n",
        "nltk.download('maxent_ne_chunker')"
      ],
      "metadata": {
        "colab": {
          "base_uri": "https://localhost:8080/"
        },
        "id": "ULDrUcFblCHP",
        "outputId": "ffe301fe-7f25-4e09-d3a4-6f7e1a50ea2d"
      },
      "execution_count": 19,
      "outputs": [
        {
          "output_type": "stream",
          "name": "stderr",
          "text": [
            "[nltk_data] Downloading package maxent_ne_chunker to\n",
            "[nltk_data]     /root/nltk_data...\n",
            "[nltk_data]   Package maxent_ne_chunker is already up-to-date!\n"
          ]
        },
        {
          "output_type": "execute_result",
          "data": {
            "text/plain": [
              "True"
            ]
          },
          "metadata": {},
          "execution_count": 19
        }
      ]
    },
    {
      "cell_type": "code",
      "source": [
        "import nltk\n",
        "nltk.download('words')"
      ],
      "metadata": {
        "colab": {
          "base_uri": "https://localhost:8080/"
        },
        "id": "Y6kQrtGclQzB",
        "outputId": "114d9c02-73bb-445e-db0d-d3af2e43d305"
      },
      "execution_count": 20,
      "outputs": [
        {
          "output_type": "stream",
          "name": "stderr",
          "text": [
            "[nltk_data] Downloading package words to /root/nltk_data...\n",
            "[nltk_data]   Package words is already up-to-date!\n"
          ]
        },
        {
          "output_type": "execute_result",
          "data": {
            "text/plain": [
              "True"
            ]
          },
          "metadata": {},
          "execution_count": 20
        }
      ]
    },
    {
      "cell_type": "code",
      "source": [
        "!pip install svgling"
      ],
      "metadata": {
        "colab": {
          "base_uri": "https://localhost:8080/"
        },
        "id": "GDhK673wmYPW",
        "outputId": "d80c27b3-c9d1-4641-ab04-a33fe50816d1"
      },
      "execution_count": 23,
      "outputs": [
        {
          "output_type": "stream",
          "name": "stdout",
          "text": [
            "Collecting svgling\n",
            "  Downloading svgling-0.5.0-py3-none-any.whl.metadata (7.4 kB)\n",
            "Collecting svgwrite (from svgling)\n",
            "  Downloading svgwrite-1.4.3-py3-none-any.whl.metadata (8.8 kB)\n",
            "Downloading svgling-0.5.0-py3-none-any.whl (31 kB)\n",
            "Downloading svgwrite-1.4.3-py3-none-any.whl (67 kB)\n",
            "\u001b[?25l   \u001b[90m━━━━━━━━━━━━━━━━━━━━━━━━━━━━━━━━━━━━━━━━\u001b[0m \u001b[32m0.0/67.1 kB\u001b[0m \u001b[31m?\u001b[0m eta \u001b[36m-:--:--\u001b[0m\r\u001b[2K   \u001b[90m━━━━━━━━━━━━━━━━━━━━━━━━━━━━━━━━━━━━━━━━\u001b[0m \u001b[32m67.1/67.1 kB\u001b[0m \u001b[31m4.6 MB/s\u001b[0m eta \u001b[36m0:00:00\u001b[0m\n",
            "\u001b[?25hInstalling collected packages: svgwrite, svgling\n",
            "Successfully installed svgling-0.5.0 svgwrite-1.4.3\n"
          ]
        }
      ]
    },
    {
      "source": [
        "import nltk\n",
        "from nltk.tree import Tree\n",
        "from IPython.display import display\n",
        "import svgling\n",
        "\n",
        "# ... your existing code for tagging and chunking ...\n",
        "\n",
        "# Instead of calling .draw() directly:\n",
        "# nltk.ne_chunk(tag_elements).draw()\n",
        "\n",
        "# Create a Tree object\n",
        "tree = Tree.fromstring(str(nltk.ne_chunk(tag_elements)))\n",
        "\n",
        "# Convert the tree to SVG and display it\n",
        "svg = svgling.draw_tree(tree)\n",
        "display(svg)"
      ],
      "cell_type": "code",
      "metadata": {
        "colab": {
          "base_uri": "https://localhost:8080/",
          "height": 161
        },
        "id": "NWOZQTvDmKUX",
        "outputId": "5a2352e7-3b18-4f04-85eb-7b2e37e5d4e5"
      },
      "execution_count": 24,
      "outputs": [
        {
          "output_type": "display_data",
          "data": {
            "text/plain": [
              "TreeLayout(Tree('S', ['The/DT', Tree('ORGANIZATION', ['Eiffel/NNP', 'Tower/NNP']), 'was/VBD', 'built/VBN', 'from/IN', '1887/CD', 'to/TO', '1889/CD', 'by/IN', 'french/JJ', 'engineer/NN', Tree('PERSON', ['Gustave/NNP', 'Eiffel/NNP']), ',/,', 'whose/WP$', 'company/NN', 'specialized/VBD', 'in/IN', 'building/NN', 'metal/NN', 'frameworks/NNS', 'and/CC', 'structures/NNS', './.']))"
            ],
            "image/svg+xml": "<svg baseProfile=\"full\" height=\"120px\" preserveAspectRatio=\"xMidYMid meet\" style=\"font-family: times, serif; font-weight: normal; font-style: normal; font-size: 16px\" version=\"1.1\" viewBox=\"0,0,2088.0,120.0\" width=\"2088px\" xmlns=\"http://www.w3.org/2000/svg\" xmlns:ev=\"http://www.w3.org/2001/xml-events\" xmlns:xlink=\"http://www.w3.org/1999/xlink\"><defs /><svg width=\"100%\" x=\"0\" y=\"0px\"><defs /><text text-anchor=\"middle\" x=\"50%\" y=\"16px\">S</text></svg><svg width=\"3.06513%\" x=\"0%\" y=\"48px\"><defs /><svg width=\"100%\" x=\"0\" y=\"0px\"><defs /><text text-anchor=\"middle\" x=\"50%\" y=\"16px\">The/DT</text></svg></svg><line stroke=\"black\" x1=\"50%\" x2=\"1.53257%\" y1=\"20px\" y2=\"48px\" /><svg width=\"8.81226%\" x=\"3.06513%\" y=\"48px\"><defs /><svg width=\"100%\" x=\"0\" y=\"0px\"><defs /><text text-anchor=\"middle\" x=\"50%\" y=\"16px\">ORGANIZATION</text></svg><svg width=\"52.1739%\" x=\"0%\" y=\"48px\"><defs /><svg width=\"100%\" x=\"0\" y=\"0px\"><defs /><text text-anchor=\"middle\" x=\"50%\" y=\"16px\">Eiffel/NNP</text></svg></svg><line stroke=\"black\" x1=\"50%\" x2=\"26.087%\" y1=\"20px\" y2=\"48px\" /><svg width=\"47.8261%\" x=\"52.1739%\" y=\"48px\"><defs /><svg width=\"100%\" x=\"0\" y=\"0px\"><defs /><text text-anchor=\"middle\" x=\"50%\" y=\"16px\">Tower/NNP</text></svg></svg><line stroke=\"black\" x1=\"50%\" x2=\"76.087%\" y1=\"20px\" y2=\"48px\" /></svg><line stroke=\"black\" x1=\"50%\" x2=\"7.47126%\" y1=\"20px\" y2=\"48px\" /><svg width=\"3.44828%\" x=\"11.8774%\" y=\"48px\"><defs /><svg width=\"100%\" x=\"0\" y=\"0px\"><defs /><text text-anchor=\"middle\" x=\"50%\" y=\"16px\">was/VBD</text></svg></svg><line stroke=\"black\" x1=\"50%\" x2=\"13.6015%\" y1=\"20px\" y2=\"48px\" /><svg width=\"4.21456%\" x=\"15.3257%\" y=\"48px\"><defs /><svg width=\"100%\" x=\"0\" y=\"0px\"><defs /><text text-anchor=\"middle\" x=\"50%\" y=\"16px\">built/VBN</text></svg></svg><line stroke=\"black\" x1=\"50%\" x2=\"17.433%\" y1=\"20px\" y2=\"48px\" /><svg width=\"3.44828%\" x=\"19.5402%\" y=\"48px\"><defs /><svg width=\"100%\" x=\"0\" y=\"0px\"><defs /><text text-anchor=\"middle\" x=\"50%\" y=\"16px\">from/IN</text></svg></svg><line stroke=\"black\" x1=\"50%\" x2=\"21.2644%\" y1=\"20px\" y2=\"48px\" /><svg width=\"3.44828%\" x=\"22.9885%\" y=\"48px\"><defs /><svg width=\"100%\" x=\"0\" y=\"0px\"><defs /><text text-anchor=\"middle\" x=\"50%\" y=\"16px\">1887/CD</text></svg></svg><line stroke=\"black\" x1=\"50%\" x2=\"24.7126%\" y1=\"20px\" y2=\"48px\" /><svg width=\"2.68199%\" x=\"26.4368%\" y=\"48px\"><defs /><svg width=\"100%\" x=\"0\" y=\"0px\"><defs /><text text-anchor=\"middle\" x=\"50%\" y=\"16px\">to/TO</text></svg></svg><line stroke=\"black\" x1=\"50%\" x2=\"27.7778%\" y1=\"20px\" y2=\"48px\" /><svg width=\"3.44828%\" x=\"29.1188%\" y=\"48px\"><defs /><svg width=\"100%\" x=\"0\" y=\"0px\"><defs /><text text-anchor=\"middle\" x=\"50%\" y=\"16px\">1889/CD</text></svg></svg><line stroke=\"black\" x1=\"50%\" x2=\"30.8429%\" y1=\"20px\" y2=\"48px\" /><svg width=\"2.68199%\" x=\"32.567%\" y=\"48px\"><defs /><svg width=\"100%\" x=\"0\" y=\"0px\"><defs /><text text-anchor=\"middle\" x=\"50%\" y=\"16px\">by/IN</text></svg></svg><line stroke=\"black\" x1=\"50%\" x2=\"33.908%\" y1=\"20px\" y2=\"48px\" /><svg width=\"4.21456%\" x=\"35.249%\" y=\"48px\"><defs /><svg width=\"100%\" x=\"0\" y=\"0px\"><defs /><text text-anchor=\"middle\" x=\"50%\" y=\"16px\">french/JJ</text></svg></svg><line stroke=\"black\" x1=\"50%\" x2=\"37.3563%\" y1=\"20px\" y2=\"48px\" /><svg width=\"4.98084%\" x=\"39.4636%\" y=\"48px\"><defs /><svg width=\"100%\" x=\"0\" y=\"0px\"><defs /><text text-anchor=\"middle\" x=\"50%\" y=\"16px\">engineer/NN</text></svg></svg><line stroke=\"black\" x1=\"50%\" x2=\"41.954%\" y1=\"20px\" y2=\"48px\" /><svg width=\"9.57854%\" x=\"44.4444%\" y=\"48px\"><defs /><svg width=\"100%\" x=\"0\" y=\"0px\"><defs /><text text-anchor=\"middle\" x=\"50%\" y=\"16px\">PERSON</text></svg><svg width=\"52%\" x=\"0%\" y=\"48px\"><defs /><svg width=\"100%\" x=\"0\" y=\"0px\"><defs /><text text-anchor=\"middle\" x=\"50%\" y=\"16px\">Gustave/NNP</text></svg></svg><line stroke=\"black\" x1=\"50%\" x2=\"26%\" y1=\"20px\" y2=\"48px\" /><svg width=\"48%\" x=\"52%\" y=\"48px\"><defs /><svg width=\"100%\" x=\"0\" y=\"0px\"><defs /><text text-anchor=\"middle\" x=\"50%\" y=\"16px\">Eiffel/NNP</text></svg></svg><line stroke=\"black\" x1=\"50%\" x2=\"76%\" y1=\"20px\" y2=\"48px\" /></svg><line stroke=\"black\" x1=\"50%\" x2=\"49.2337%\" y1=\"20px\" y2=\"48px\" /><svg width=\"1.91571%\" x=\"54.023%\" y=\"48px\"><defs /><svg width=\"100%\" x=\"0\" y=\"0px\"><defs /><text text-anchor=\"middle\" x=\"50%\" y=\"16px\">,/,</text></svg></svg><line stroke=\"black\" x1=\"50%\" x2=\"54.9808%\" y1=\"20px\" y2=\"48px\" /><svg width=\"4.21456%\" x=\"55.9387%\" y=\"48px\"><defs /><svg width=\"100%\" x=\"0\" y=\"0px\"><defs /><text text-anchor=\"middle\" x=\"50%\" y=\"16px\">whose/WP$</text></svg></svg><line stroke=\"black\" x1=\"50%\" x2=\"58.046%\" y1=\"20px\" y2=\"48px\" /><svg width=\"4.5977%\" x=\"60.1533%\" y=\"48px\"><defs /><svg width=\"100%\" x=\"0\" y=\"0px\"><defs /><text text-anchor=\"middle\" x=\"50%\" y=\"16px\">company/NN</text></svg></svg><line stroke=\"black\" x1=\"50%\" x2=\"62.4521%\" y1=\"20px\" y2=\"48px\" /><svg width=\"6.51341%\" x=\"64.751%\" y=\"48px\"><defs /><svg width=\"100%\" x=\"0\" y=\"0px\"><defs /><text text-anchor=\"middle\" x=\"50%\" y=\"16px\">specialized/VBD</text></svg></svg><line stroke=\"black\" x1=\"50%\" x2=\"68.0077%\" y1=\"20px\" y2=\"48px\" /><svg width=\"2.68199%\" x=\"71.2644%\" y=\"48px\"><defs /><svg width=\"100%\" x=\"0\" y=\"0px\"><defs /><text text-anchor=\"middle\" x=\"50%\" y=\"16px\">in/IN</text></svg></svg><line stroke=\"black\" x1=\"50%\" x2=\"72.6054%\" y1=\"20px\" y2=\"48px\" /><svg width=\"4.98084%\" x=\"73.9464%\" y=\"48px\"><defs /><svg width=\"100%\" x=\"0\" y=\"0px\"><defs /><text text-anchor=\"middle\" x=\"50%\" y=\"16px\">building/NN</text></svg></svg><line stroke=\"black\" x1=\"50%\" x2=\"76.4368%\" y1=\"20px\" y2=\"48px\" /><svg width=\"3.83142%\" x=\"78.9272%\" y=\"48px\"><defs /><svg width=\"100%\" x=\"0\" y=\"0px\"><defs /><text text-anchor=\"middle\" x=\"50%\" y=\"16px\">metal/NN</text></svg></svg><line stroke=\"black\" x1=\"50%\" x2=\"80.8429%\" y1=\"20px\" y2=\"48px\" /><svg width=\"6.13027%\" x=\"82.7586%\" y=\"48px\"><defs /><svg width=\"100%\" x=\"0\" y=\"0px\"><defs /><text text-anchor=\"middle\" x=\"50%\" y=\"16px\">frameworks/NNS</text></svg></svg><line stroke=\"black\" x1=\"50%\" x2=\"85.8238%\" y1=\"20px\" y2=\"48px\" /><svg width=\"3.06513%\" x=\"88.8889%\" y=\"48px\"><defs /><svg width=\"100%\" x=\"0\" y=\"0px\"><defs /><text text-anchor=\"middle\" x=\"50%\" y=\"16px\">and/CC</text></svg></svg><line stroke=\"black\" x1=\"50%\" x2=\"90.4215%\" y1=\"20px\" y2=\"48px\" /><svg width=\"6.13027%\" x=\"91.954%\" y=\"48px\"><defs /><svg width=\"100%\" x=\"0\" y=\"0px\"><defs /><text text-anchor=\"middle\" x=\"50%\" y=\"16px\">structures/NNS</text></svg></svg><line stroke=\"black\" x1=\"50%\" x2=\"95.0192%\" y1=\"20px\" y2=\"48px\" /><svg width=\"1.91571%\" x=\"98.0843%\" y=\"48px\"><defs /><svg width=\"100%\" x=\"0\" y=\"0px\"><defs /><text text-anchor=\"middle\" x=\"50%\" y=\"16px\">./.</text></svg></svg><line stroke=\"black\" x1=\"50%\" x2=\"99.0421%\" y1=\"20px\" y2=\"48px\" /></svg>"
          },
          "metadata": {}
        }
      ]
    },
    {
      "source": [],
      "cell_type": "code",
      "metadata": {
        "id": "ByJJIsmRmVI_"
      },
      "execution_count": null,
      "outputs": []
    }
  ]
}