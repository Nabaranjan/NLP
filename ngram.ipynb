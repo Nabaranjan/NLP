{
  "nbformat": 4,
  "nbformat_minor": 0,
  "metadata": {
    "colab": {
      "provenance": [],
      "authorship_tag": "ABX9TyP+xlriRwEyTciAjGgeYTgL",
      "include_colab_link": true
    },
    "kernelspec": {
      "name": "python3",
      "display_name": "Python 3"
    },
    "language_info": {
      "name": "python"
    }
  },
  "cells": [
    {
      "cell_type": "markdown",
      "metadata": {
        "id": "view-in-github",
        "colab_type": "text"
      },
      "source": [
        "<a href=\"https://colab.research.google.com/github/Nabaranjan/NLP/blob/main/ngram.ipynb\" target=\"_parent\"><img src=\"https://colab.research.google.com/assets/colab-badge.svg\" alt=\"Open In Colab\"/></a>"
      ]
    },
    {
      "source": [
        "## create the bag of words model\n",
        "from sklearn.feature_extraction.text import CountVectorizer\n",
        "## for binary BOW enable binary = True\n",
        "cv = CountVectorizer(max_features=100,binary=True)\n",
        "\n",
        "# Define the corpus variable with your text data\n",
        "corpus = [\n",
        "    'This is the first document.',\n",
        "    'This document is the second document.',\n",
        "    'And this is the third one.',\n",
        "    'Is this the first document?',\n",
        "]\n",
        "\n",
        "# Now you can fit_transform the corpus\n",
        "X = cv.fit_transform(corpus).toarray()"
      ],
      "cell_type": "code",
      "metadata": {
        "id": "H8l-Jq-feMZv"
      },
      "execution_count": 3,
      "outputs": []
    },
    {
      "cell_type": "code",
      "source": [
        "import numpy as np\n",
        "np.set_printoptions(edgeitems=30, linewidth=100000,\n",
        " formatter=dict(float=lambda x: \"%.3g\" % x))\n",
        "X"
      ],
      "metadata": {
        "colab": {
          "base_uri": "https://localhost:8080/"
        },
        "id": "KtLj6VZmelt2",
        "outputId": "88dfb124-440e-4f4c-f4e0-20bdba145c77"
      },
      "execution_count": 4,
      "outputs": [
        {
          "output_type": "execute_result",
          "data": {
            "text/plain": [
              "array([[0, 1, 1, 1, 0, 0, 1, 0, 1],\n",
              "       [0, 1, 0, 1, 0, 1, 1, 0, 1],\n",
              "       [1, 0, 0, 1, 1, 0, 1, 1, 1],\n",
              "       [0, 1, 1, 1, 0, 0, 1, 0, 1]])"
            ]
          },
          "metadata": {},
          "execution_count": 4
        }
      ]
    },
    {
      "cell_type": "code",
      "source": [
        "cv.vocabulary_"
      ],
      "metadata": {
        "colab": {
          "base_uri": "https://localhost:8080/"
        },
        "id": "MfwglquFf-SX",
        "outputId": "5de83c54-a9a4-4803-b319-d916e64677c3"
      },
      "execution_count": 5,
      "outputs": [
        {
          "output_type": "execute_result",
          "data": {
            "text/plain": [
              "{'this': 8,\n",
              " 'is': 3,\n",
              " 'the': 6,\n",
              " 'first': 2,\n",
              " 'document': 1,\n",
              " 'second': 5,\n",
              " 'and': 0,\n",
              " 'third': 7,\n",
              " 'one': 4}"
            ]
          },
          "metadata": {},
          "execution_count": 5
        }
      ]
    },
    {
      "cell_type": "code",
      "source": [
        "## create the bag of words model\n",
        "from sklearn.feature_extraction.text import CountVectorizer\n",
        "## for binary BOW enable binary = True\n",
        "cv = CountVectorizer(max_features=100,binary=True,ngram_range=(1,2))"
      ],
      "metadata": {
        "id": "KAgAjpP-g_Up"
      },
      "execution_count": 10,
      "outputs": []
    },
    {
      "cell_type": "code",
      "source": [
        "X = cv.fit_transform(corpus).toarray()"
      ],
      "metadata": {
        "id": "GvrBuEuohbRD"
      },
      "execution_count": 11,
      "outputs": []
    },
    {
      "cell_type": "code",
      "source": [
        "cv.vocabulary_"
      ],
      "metadata": {
        "colab": {
          "base_uri": "https://localhost:8080/"
        },
        "id": "MtvermPriuT3",
        "outputId": "2da5aa4b-9c48-4a80-cb39-f82392e2d012"
      },
      "execution_count": 12,
      "outputs": [
        {
          "output_type": "execute_result",
          "data": {
            "text/plain": [
              "{'this': 18,\n",
              " 'is': 6,\n",
              " 'the': 12,\n",
              " 'first': 4,\n",
              " 'document': 2,\n",
              " 'this is': 20,\n",
              " 'is the': 7,\n",
              " 'the first': 13,\n",
              " 'first document': 5,\n",
              " 'second': 10,\n",
              " 'this document': 19,\n",
              " 'document is': 3,\n",
              " 'the second': 14,\n",
              " 'second document': 11,\n",
              " 'and': 0,\n",
              " 'third': 16,\n",
              " 'one': 9,\n",
              " 'and this': 1,\n",
              " 'the third': 15,\n",
              " 'third one': 17,\n",
              " 'is this': 8,\n",
              " 'this the': 21}"
            ]
          },
          "metadata": {},
          "execution_count": 12
        }
      ]
    },
    {
      "cell_type": "code",
      "source": [],
      "metadata": {
        "id": "yeInBsc9i2C2"
      },
      "execution_count": null,
      "outputs": []
    }
  ]
}